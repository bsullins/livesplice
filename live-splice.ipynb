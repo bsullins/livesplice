{
 "cells": [
  {
   "cell_type": "markdown",
   "metadata": {},
   "source": [
    "## Idea\n",
    "Chop up a livestream into highlights to be uploaded and scheduled for subsequent days. \n",
    "\n",
    "**Current schedule:**\n",
    "Mon - Live show\n",
    "Tue - Highlight 1\n",
    "Wed - Highlight 2\n",
    "Thu - Highlight 3\n",
    "Fri - Produced Video\n",
    "Sat - Highlight 4 (Q&A)\n",
    "\n",
    "## Prereq\n",
    "- [Moviepy](http://zulko.github.io/moviepy/)\n",
    "\n",
    "## Future\n",
    "- Auto upload to youtube ([script](https://github.com/porjo/youtubeuploader))\n"
   ]
  },
  {
   "cell_type": "code",
   "execution_count": 1,
   "metadata": {},
   "outputs": [],
   "source": [
    "from moviepy.editor import *\n",
    "\n",
    "#vars\n",
    "dt = \"20180423\"\n",
    "src = VideoFileClip(\"footage\\\\2018-04-23_11-58-22.mp4\")\n",
    "\n",
    "#fun\n",
    "def addTransitions(vid):   \n",
    "    t1 = vfx.fadein(clip=vid, duration=0.33)\n",
    "    t2 = vfx.fadeout(clip=t1, duration=0.33)\n",
    "    return t2;"
   ]
  },
  {
   "cell_type": "code",
   "execution_count": 2,
   "metadata": {},
   "outputs": [],
   "source": [
    "#cleanup\n",
    "#video1.reader.close()\n",
    "#video1.audio.reader.close_proc()\n"
   ]
  },
  {
   "cell_type": "code",
   "execution_count": 3,
   "metadata": {},
   "outputs": [],
   "source": [
    "# setup outro\n",
    "# create from image\n",
    "\n",
    "outroImg = ImageClip(\"outro-logo.png\", duration=7)\n",
    "outroVid = addTransitions(outroImg)\n",
    "#outroVid.write_videofile(\"outroVid1.mp4\", fps=30)\n"
   ]
  },
  {
   "cell_type": "code",
   "execution_count": 4,
   "metadata": {},
   "outputs": [],
   "source": [
    "# create highlights\n",
    "\n",
    "video1 = src.subclip(\"00:05:44\",\"00:10:54\")\n",
    "video2 = src.subclip(\"00:11:00\",\"00:16:56\")\n",
    "video3 = src.subclip(\"00:19:26\",\"00:24:57\")\n",
    "video4 = src.subclip(\"00:25:20\",\"00:48:35\")\n"
   ]
  },
  {
   "cell_type": "code",
   "execution_count": 5,
   "metadata": {},
   "outputs": [],
   "source": [
    "# add vfx\n",
    "#c1 = vfx.fadein(clip=video1, duration=0.5)\n",
    "#c1a = vfx.fadeout(clip=c1, duration=0.5)\n",
    "\n",
    "c1 = addTransitions(video1)\n",
    "c2 = addTransitions(video2)\n",
    "c3 = addTransitions(video3)\n",
    "c4 = addTransitions(video4)\n",
    "\n",
    "\n",
    "# concatenate cips\n",
    "\n",
    "h1 = concatenate_videoclips([c1,outroVid])\n",
    "h2 = concatenate_videoclips([c2,outroVid])\n",
    "h3 = concatenate_videoclips([c3,outroVid])\n",
    "h4 = concatenate_videoclips([c4,outroVid])\n",
    "\n"
   ]
  },
  {
   "cell_type": "code",
   "execution_count": 6,
   "metadata": {
    "scrolled": true
   },
   "outputs": [
    {
     "name": "stdout",
     "output_type": "stream",
     "text": [
      "[MoviePy] >>>> Building video 20180423-h1.mp4\n",
      "[MoviePy] Writing audio in 20180423-h1TEMP_MPY_wvf_snd.mp3\n"
     ]
    },
    {
     "name": "stderr",
     "output_type": "stream",
     "text": [
      "100%|█████████████████████████████████████████████████████████████████| 6836/6836 [00:15<00:00, 433.17it/s]\n"
     ]
    },
    {
     "name": "stdout",
     "output_type": "stream",
     "text": [
      "[MoviePy] Done.\n",
      "[MoviePy] Writing video 20180423-h1.mp4\n"
     ]
    },
    {
     "name": "stderr",
     "output_type": "stream",
     "text": [
      "100%|█████████████████████████████████████████████████████████████████▉| 7608/7609 [21:07<00:00,  6.00it/s]\n"
     ]
    },
    {
     "name": "stdout",
     "output_type": "stream",
     "text": [
      "[MoviePy] Done.\n",
      "[MoviePy] >>>> Video ready: 20180423-h1.mp4 \n",
      "\n",
      "[MoviePy] >>>> Building video 20180423-h2.mp4\n",
      "[MoviePy] Writing audio in 20180423-h2TEMP_MPY_wvf_snd.mp3\n"
     ]
    },
    {
     "name": "stderr",
     "output_type": "stream",
     "text": [
      "100%|█████████████████████████████████████████████████████████████████| 7850/7850 [00:49<00:00, 159.77it/s]\n"
     ]
    },
    {
     "name": "stdout",
     "output_type": "stream",
     "text": [
      "[MoviePy] Done.\n",
      "[MoviePy] Writing video 20180423-h2.mp4\n"
     ]
    },
    {
     "name": "stderr",
     "output_type": "stream",
     "text": [
      "100%|█████████████████████████████████████████████████████████████████▉| 8712/8713 [22:30<00:00,  6.45it/s]\n"
     ]
    },
    {
     "name": "stdout",
     "output_type": "stream",
     "text": [
      "[MoviePy] Done.\n",
      "[MoviePy] >>>> Video ready: 20180423-h2.mp4 \n",
      "\n",
      "[MoviePy] >>>> Building video 20180423-h3.mp4\n",
      "[MoviePy] Writing audio in 20180423-h3TEMP_MPY_wvf_snd.mp3\n"
     ]
    },
    {
     "name": "stderr",
     "output_type": "stream",
     "text": [
      "100%|█████████████████████████████████████████████████████████████████| 7299/7299 [00:10<00:00, 717.94it/s]\n"
     ]
    },
    {
     "name": "stdout",
     "output_type": "stream",
     "text": [
      "[MoviePy] Done.\n",
      "[MoviePy] Writing video 20180423-h3.mp4\n"
     ]
    },
    {
     "name": "stderr",
     "output_type": "stream",
     "text": [
      "100%|█████████████████████████████████████████████████████████████████▉| 8112/8113 [13:05<00:00, 10.32it/s]\n"
     ]
    },
    {
     "name": "stdout",
     "output_type": "stream",
     "text": [
      "[MoviePy] Done.\n",
      "[MoviePy] >>>> Video ready: 20180423-h3.mp4 \n",
      "\n",
      "[MoviePy] >>>> Building video 20180423-h4.mp4\n",
      "[MoviePy] Writing audio in 20180423-h4TEMP_MPY_wvf_snd.mp3\n"
     ]
    },
    {
     "name": "stderr",
     "output_type": "stream",
     "text": [
      "100%|███████████████████████████████████████████████████████████████| 30760/30760 [01:12<00:00, 426.52it/s]\n"
     ]
    },
    {
     "name": "stdout",
     "output_type": "stream",
     "text": [
      "[MoviePy] Done.\n",
      "[MoviePy] Writing video 20180423-h4.mp4\n"
     ]
    },
    {
     "name": "stderr",
     "output_type": "stream",
     "text": [
      "100%|███████████████████████████████████████████████████████████████▉| 33648/33649 [36:32<00:00, 15.35it/s]\n"
     ]
    },
    {
     "name": "stdout",
     "output_type": "stream",
     "text": [
      "[MoviePy] Done.\n",
      "[MoviePy] >>>> Video ready: 20180423-h4.mp4 \n",
      "\n"
     ]
    }
   ],
   "source": [
    "# write output\n",
    "h1.write_videofile(dt + \"-h1.mp4\", fps=24)\n",
    "h2.write_videofile(dt + \"-h2.mp4\", fps=24)\n",
    "h3.write_videofile(dt + \"-h3.mp4\", fps=24)\n",
    "h4.write_videofile(dt + \"-h4.mp4\", fps=24)"
   ]
  },
  {
   "cell_type": "code",
   "execution_count": null,
   "metadata": {},
   "outputs": [],
   "source": []
  }
 ],
 "metadata": {
  "kernelspec": {
   "display_name": "Python 3",
   "language": "python",
   "name": "python3"
  },
  "language_info": {
   "codemirror_mode": {
    "name": "ipython",
    "version": 3
   },
   "file_extension": ".py",
   "mimetype": "text/x-python",
   "name": "python",
   "nbconvert_exporter": "python",
   "pygments_lexer": "ipython3",
   "version": "3.6.4"
  }
 },
 "nbformat": 4,
 "nbformat_minor": 2
}
