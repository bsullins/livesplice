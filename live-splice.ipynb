{
 "cells": [
  {
   "cell_type": "markdown",
   "metadata": {},
   "source": [
    "## Idea\n",
    "Chop up a livestream into highlights to be uploaded and scheduled for subsequent days. \n",
    "\n",
    "**Current schedule:**\n",
    "Mon - Live show\n",
    "Tue - Highlight 1\n",
    "Wed - Highlight 2\n",
    "Thu - Highlight 3\n",
    "Fri - Produced Video\n",
    "Sat - Highlight 4 (Q&A)\n",
    "\n",
    "## Prereq\n",
    "- [Moviepy](http://zulko.github.io/moviepy/)\n",
    "\n",
    "## Future\n",
    "- Auto upload to youtube ([script](https://github.com/porjo/youtubeuploader))\n"
   ]
  },
  {
   "cell_type": "code",
<<<<<<< HEAD
   "execution_count": 1,
   "metadata": {},
   "outputs": [
    {
     "name": "stdout",
     "output_type": "stream",
     "text": [
      "[MoviePy] >>>> Building video output/20180611-h0.mp4\n",
      "[MoviePy] Writing audio in 20180611-h0TEMP_MPY_wvf_snd.mp3\n"
     ]
    },
    {
     "name": "stderr",
     "output_type": "stream",
     "text": [
      "100%|██████████| 24101/24101 [00:46<00:00, 514.82it/s]"
     ]
    },
    {
     "name": "stdout",
     "output_type": "stream",
     "text": [
      "[MoviePy] Done.\n",
      "[MoviePy] Writing video output/20180611-h0.mp4\n"
     ]
    },
    {
     "name": "stderr",
     "output_type": "stream",
     "text": [
      "\n",
      "100%|█████████▉| 32790/32791 [15:30<00:00, 35.23it/s]\n"
     ]
    },
    {
     "name": "stdout",
     "output_type": "stream",
     "text": [
      "[MoviePy] Done.\n",
      "[MoviePy] >>>> Video ready: output/20180611-h0.mp4 \n",
      "\n",
      "[MoviePy] >>>> Building video output/20180611-h1.mp4\n",
      "[MoviePy] Writing audio in 20180611-h1TEMP_MPY_wvf_snd.mp3\n"
     ]
    },
    {
     "name": "stderr",
     "output_type": "stream",
     "text": [
      "100%|██████████| 2911/2911 [00:05<00:00, 537.57it/s]"
     ]
    },
    {
     "name": "stdout",
     "output_type": "stream",
     "text": [
      "[MoviePy] Done.\n",
      "[MoviePy] Writing video output/20180611-h1.mp4\n"
     ]
    },
    {
     "name": "stderr",
     "output_type": "stream",
     "text": [
      "\n",
      "100%|█████████▉| 3960/3961 [01:06<00:00, 59.87it/s]\n"
     ]
    },
    {
     "name": "stdout",
     "output_type": "stream",
     "text": [
      "[MoviePy] Done.\n",
      "[MoviePy] >>>> Video ready: output/20180611-h1.mp4 \n",
      "\n",
      "[MoviePy] >>>> Building video output/20180611-h2.mp4\n",
      "[MoviePy] Writing audio in 20180611-h2TEMP_MPY_wvf_snd.mp3\n"
     ]
    },
    {
     "name": "stderr",
     "output_type": "stream",
     "text": [
      "100%|██████████| 3551/3551 [00:07<00:00, 456.98it/s]"
     ]
    },
    {
     "name": "stdout",
     "output_type": "stream",
     "text": [
      "[MoviePy] Done.\n",
      "[MoviePy] Writing video output/20180611-h2.mp4\n"
     ]
    },
    {
     "name": "stderr",
     "output_type": "stream",
     "text": [
      "\n",
      "100%|█████████▉| 4830/4831 [01:20<00:00, 59.81it/s]\n"
     ]
    },
    {
     "name": "stdout",
     "output_type": "stream",
     "text": [
      "[MoviePy] Done.\n",
      "[MoviePy] >>>> Video ready: output/20180611-h2.mp4 \n",
      "\n",
      "[MoviePy] >>>> Building video output/20180611-h3.mp4\n",
      "[MoviePy] Writing audio in 20180611-h3TEMP_MPY_wvf_snd.mp3\n"
     ]
    },
    {
     "name": "stderr",
     "output_type": "stream",
     "text": [
      "100%|██████████| 6064/6064 [00:11<00:00, 540.47it/s]"
     ]
    },
    {
     "name": "stdout",
     "output_type": "stream",
     "text": [
      "[MoviePy] Done.\n",
      "[MoviePy] Writing video output/20180611-h3.mp4\n"
     ]
    },
    {
     "name": "stderr",
     "output_type": "stream",
     "text": [
      "\n",
      "100%|█████████▉| 8250/8251 [02:27<00:00, 56.04it/s]\n"
     ]
    },
    {
     "name": "stdout",
     "output_type": "stream",
     "text": [
      "[MoviePy] Done.\n",
      "[MoviePy] >>>> Video ready: output/20180611-h3.mp4 \n",
      "\n",
      "[MoviePy] >>>> Building video output/20180611-h4.mp4\n",
      "[MoviePy] Writing audio in 20180611-h4TEMP_MPY_wvf_snd.mp3\n"
     ]
    },
    {
     "name": "stderr",
     "output_type": "stream",
     "text": [
      "100%|██████████| 35611/35611 [01:05<00:00, 545.59it/s]"
     ]
    },
    {
     "name": "stdout",
     "output_type": "stream",
     "text": [
      "[MoviePy] Done.\n",
      "[MoviePy] Writing video output/20180611-h4.mp4\n"
     ]
    },
    {
     "name": "stderr",
     "output_type": "stream",
     "text": [
      "\n",
      "100%|█████████▉| 48450/48451 [15:31<00:00, 52.01it/s]\n"
     ]
    },
    {
     "name": "stdout",
     "output_type": "stream",
     "text": [
      "[MoviePy] Done.\n",
      "[MoviePy] >>>> Video ready: output/20180611-h4.mp4 \n",
      "\n"
     ]
    }
   ],
=======
   "execution_count": null,
   "metadata": {
    "scrolled": false
   },
   "outputs": [],
>>>>>>> b619a87384666f6e67a23b50d46bc7a2664c461b
   "source": [
    "from moviepy.editor import *\n",
    "\n",
    "# create highlights\n",
    "# enter start and stop times\n",
<<<<<<< HEAD
    "cuts = [\n",
    "    [\"00:00:28\",\"00:18:41\"],\n",
    "    [\"00:23:07\",\"00:25:19\"],\n",
    "    [\"00:25:20\",\"00:28:01\"],\n",
    "    [\"00:37:26\",\"00:42:01\"],\n",
    "    [\"00:42:41\",\"01:09:36\"],\n",
    "]\n",
    "\n",
    "#vars\n",
    "dt = \"20180611\"\n",
    "src = VideoFileClip(\"footage/Rocket Powered Tesla Confirmed! But how [live].mp4\")\n",
    "\n",
    "# to addtransitions\n",
    "def addTransitions(vid):   \n",
    "    t1 = vfx.fadein(clip=vid, duration=0.25)\n",
    "    t2 = vfx.fadeout(clip=t1, duration=0.25)\n",
    "    return t2;\n",
    "\n",
    "# setup outro\n",
    "# create from image\n",
    "outroImg = ImageClip(\"outro-logo.png\", duration=9)\n",
    "outroVid = addTransitions(outroImg)\n",
    "\n",
    "## create sub-clips ##\n",
    "videos = [src.subclip(cut[0], cut[1]) for cut in cuts]\n",
    "\n",
    "## add transitions ##\n",
    "clips = [addTransitions(video) for video in videos]\n",
    "\n",
    "## add outro ##\n",
    "# highlights = [concatenate_videoclips([clip, outroVid]) for clip in clips]\n",
    "highlights = [concatenate_videoclips([clip,outroVid]) for clip in clips]\n",
    "        \n",
    "## create output ##\n",
    "for h, highlight in enumerate(highlights):\n",
    "    highlight.write_videofile(f\"output/{dt}-h{h}.mp4\", fps=30)\n"
=======
    "clips = [\n",
    "    [\"00:10:00\",\"00:10:30\"],\n",
    "    [\"00:11:00\",\"00:11:30\"],\n",
    "    [\"00:12:00\",\"00:12:30\"]\n",
    "]\n",
    "\n",
    "#vars\n",
    "dt = \"20180423\"\n",
    "src = VideoFileClip(\"footage\\\\2018-04-23_11-58-22.mp4\")\n",
    "\n",
    "# to addtransitions\n",
    "def addTransitions(vid):   \n",
    "    t1 = vfx.fadein(clip=vid, duration=0.33)\n",
    "    t2 = vfx.fadeout(clip=t1, duration=0.33)\n",
    "    return t2;\n",
    "\n",
    "\n",
    "# setup outro\n",
    "# create from image\n",
    "outroImg = ImageClip(\"outro-logo.png\", duration=7)\n",
    "outroVid = addTransitions(outroImg)\n",
    "\n",
    "# print(clips[0][\"start\"])\n",
    "\n",
    "\n",
    "## create sub-clips ##\n",
    "i=0\n",
    "videos = []\n",
    "\n",
    "for clip in clips:\n",
    "    \n",
    "    videos.append(src.subclip(clip[0],clip[1]))\n",
    "    \n",
    "#     print(i, \"-\", clip[\"start\"], \"-\", clip[\"end\"])\n",
    "\n",
    "    i=i+1\n",
    "\n",
    "\n",
    "# print(\"videos:\",videos)\n",
    "\n",
    "\n",
    "## add transitions ##\n",
    "\n",
    "clips = []\n",
    "\n",
    "for video in videos:\n",
    "    clips.append(addTransitions(video))\n",
    "    \n",
    "# print(\"videos:\",videos)\n",
    "    \n",
    "\n",
    "## add outro ##\n",
    "\n",
    "highlights = []\n",
    "\n",
    "for clip in clips:\n",
    "    highlights.append(concatenate_videoclips([clip,outroVid]))\n",
    "        \n",
    "# print(\"clips:\",clips)\n",
    "\n",
    "\n",
    "## create output ##\n",
    "\n",
    "h=1\n",
    "for highlight in highlights:\n",
    "    highlight.write_videofile(\"output\\\\\" + dt + \"-h\" + str(h) + \".mp4\", fps=24)\n",
    "    \n",
    "    h=h+1\n",
    "\n"
>>>>>>> b619a87384666f6e67a23b50d46bc7a2664c461b
   ]
  },
  {
   "cell_type": "code",
   "execution_count": null,
   "metadata": {},
   "outputs": [],
   "source": []
  }
 ],
 "metadata": {
  "kernelspec": {
   "display_name": "Python 3",
   "language": "python",
   "name": "python3"
  },
  "language_info": {
   "codemirror_mode": {
    "name": "ipython",
    "version": 3
   },
   "file_extension": ".py",
   "mimetype": "text/x-python",
   "name": "python",
   "nbconvert_exporter": "python",
   "pygments_lexer": "ipython3",
   "version": "3.6.4"
  }
 },
 "nbformat": 4,
 "nbformat_minor": 2
}
